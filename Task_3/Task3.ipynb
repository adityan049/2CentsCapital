{
 "cells": [
  {
   "cell_type": "markdown",
   "id": "596cba62-add9-4bd9-b0fd-f05b1d10956d",
   "metadata": {},
   "source": [
    "# Importing the relevant libraries"
   ]
  },
  {
   "cell_type": "code",
   "execution_count": 3,
   "id": "087ef9a8-47ad-41e2-a776-ee35482946be",
   "metadata": {},
   "outputs": [],
   "source": [
    "import os\n",
    "import backtrader as bt\n",
    "import pandas as pd\n",
    "import numpy as np\n",
    "from datetime import datetime"
   ]
  },
  {
   "cell_type": "markdown",
   "id": "7c0b39f6-0130-4d81-975a-03a2164d5b41",
   "metadata": {},
   "source": [
    "# Load Stock Data from CSV and Combine Datasets from Multiple Folders\n",
    "This function reads a CSV file containing stock market data, converts the timestamp column to a proper datetime format, and ensures that the required columns ('open', 'high', 'low', 'close', and 'volume') are present. It raises an error if these columns are missing. Then navigates through multiple directories containing stock CSV files, loading and concatenating them into a single DataFrame for further processing. It skips files missing critical columns.\n",
    "\n"
   ]
  },
  {
   "cell_type": "code",
   "execution_count": 6,
   "id": "437f8b6b-c724-4938-878d-e1d24e1121ff",
   "metadata": {},
   "outputs": [],
   "source": [
    "\n",
    "def load_stock_data(file_path):\n",
    "    \"\"\"Load stock data from CSV and ensure proper time formatting.\"\"\"\n",
    "    df = pd.read_csv(file_path)\n",
    "    if 'timestamp' in df.columns:\n",
    "        if df['timestamp'].apply(lambda x: str(x).isdigit()).all():\n",
    "            df['timestamp'] = pd.to_datetime(df['timestamp'], unit='ms')\n",
    "        else:\n",
    "            df['timestamp'] = pd.to_datetime(df['timestamp'])\n",
    "    elif 'date' in df.columns:\n",
    "        df['timestamp'] = pd.to_datetime(df['date'])\n",
    "    else:\n",
    "        raise KeyError(f\"No valid time column found in file: {file_path}\")\n",
    "\n",
    "    df.set_index('timestamp', inplace=True)\n",
    "\n",
    "    required_columns = ['open', 'high', 'low', 'close', 'volume']\n",
    "    missing_columns = [col for col in required_columns if col not in df.columns]\n",
    "    if missing_columns:\n",
    "        raise KeyError(f\"Missing required columns {missing_columns} in file: {file_path}\")\n",
    "\n",
    "    return df\n",
    "\n",
    "def combine_datasets(data_folders):\n",
    "    \"\"\"Combine stock data from multiple folders into one DataFrame.\"\"\"\n",
    "    combined_data = pd.DataFrame()\n",
    "    for folder in data_folders:\n",
    "        for subdir, _, files in os.walk(folder):\n",
    "            for file in files:\n",
    "                if file.endswith('.csv'):\n",
    "                    file_path = os.path.join(subdir, file)\n",
    "                    print(f'Loading {file_path}')\n",
    "                    try:\n",
    "                        df = load_stock_data(file_path)\n",
    "                        combined_data = pd.concat([combined_data, df])\n",
    "                    except KeyError as e:\n",
    "                        print(f\"Skipping {file_path}: {e}\")\n",
    "                        continue\n",
    "    return combined_data"
   ]
  },
  {
   "cell_type": "markdown",
   "id": "67f08d3b-5b51-4426-a673-9eb176938e2b",
   "metadata": {},
   "source": [
    "# Alpha3Strategy Class - Strategy Implementation\n",
    "This is a custom trading strategy implemented using Backtrader. The strategy ranks 'open' prices and 'volume' over a given lookback period, calculates the correlation between these ranks, and generates buy/sell signals based on the alpha signal.\n"
   ]
  },
  {
   "cell_type": "code",
   "execution_count": 8,
   "id": "3c920c2a-6731-447a-9f7b-59a9da779020",
   "metadata": {},
   "outputs": [],
   "source": [
    "class Alpha3Strategy(bt.Strategy):\n",
    "    params = (\n",
    "        ('lookback_period', 10),  # Lookback period for correlation\n",
    "    )\n",
    "\n",
    "    def __init__(self):\n",
    "        self.alpha_signal = dict()\n",
    "        self.trade_pnls = []  # Track P&L for each trade\n",
    "\n",
    "    def next(self):\n",
    "        # Get the last `lookback_period` values for open and volume\n",
    "        opens = np.array([self.data.open[-i] for i in range(self.params.lookback_period)])\n",
    "        volumes = np.array([self.data.volume[-i] for i in range(self.params.lookback_period)])\n",
    "\n",
    "        # Rank the values\n",
    "        open_rank = pd.Series(opens).rank()\n",
    "        volume_rank = pd.Series(volumes).rank()\n",
    "\n",
    "        # Calculate correlation between ranked open and ranked volume\n",
    "        correlation = open_rank.corr(volume_rank)\n",
    "\n",
    "        # The alpha signal is the negative correlation\n",
    "        alpha_signal = -1 * correlation\n",
    "\n",
    "        # Implement simple buy/sell rules based on alpha signal\n",
    "        if alpha_signal < -0.5:  # Strong negative correlation, buy signal\n",
    "            if not self.position:\n",
    "                self.buy()\n",
    "        \n",
    "        if alpha_signal > 0.5:  # Weak signal or positive correlation, sell signal\n",
    "            if self.position:\n",
    "                self.sell()\n",
    "\n",
    "    def notify_trade(self, trade):\n",
    "        \"\"\"Capture the trade P&L when a trade closes.\"\"\"\n",
    "        if trade.isclosed:\n",
    "            self.trade_pnls.append(trade.pnl)  # Store trade P&L\n",
    "            \n"
   ]
  },
  {
   "cell_type": "markdown",
   "id": "a24022ea-40ee-4f7f-9411-a014f2c3469a",
   "metadata": {},
   "source": [
    "# Run Backtest on Portfolio Data\n",
    "This function runs the backtest by adding stock data to the Backtrader engine. It simulates trading using the developed Alpha3 strategy and includes transaction costs and slippage to make the results more realistic.\n"
   ]
  },
  {
   "cell_type": "code",
   "execution_count": 10,
   "id": "2bc9fbdb-20da-411e-8e1a-612848e5b3e9",
   "metadata": {},
   "outputs": [],
   "source": [
    "def run_alpha3_backtest_portfolio(data_folders):\n",
    "    cerebro = bt.Cerebro()\n",
    "    cerebro.addstrategy(Alpha3Strategy)\n",
    "\n",
    "    for folder in data_folders:\n",
    "        for subdir, _, files in os.walk(folder):\n",
    "            for file in files:\n",
    "                if file.endswith('1h.csv'):\n",
    "                    file_path = os.path.join(subdir, file)\n",
    "                    print(f'Loading {file_path}')\n",
    "                    try:\n",
    "                        df = load_stock_data(file_path)\n",
    "                    except KeyError as e:\n",
    "                        print(f\"Skipping {file_path}: {e}\")\n",
    "                        continue\n",
    "\n",
    "                    data_feed = bt.feeds.PandasData(dataname=df)\n",
    "                    cerebro.adddata(data_feed)\n",
    "\n",
    "    cerebro.broker.set_cash(1000000)\n",
    "    cerebro.broker.setcommission(commission=0.001)\n",
    "    cerebro.broker.set_slippage_perc(0.001)\n",
    "\n",
    "    print('Starting Portfolio Value: %.2f' % cerebro.broker.getvalue())\n",
    "    cerebro.run()\n",
    "    print('Ending Portfolio Value: %.2f' % cerebro.broker.getvalue())\n",
    "\n",
    "    # Generate performance report\n",
    "    generate_performance_report(cerebro)\n",
    "\n",
    "    # Plot the backtest results\n",
    "    cerebro.plot(iplot=False)"
   ]
  },
  {
   "cell_type": "markdown",
   "id": "623d3d0e-4c05-4549-837a-56a016e46736",
   "metadata": {},
   "source": [
    "# Generate Performance Report\n",
    "After running the backtest, this function generates key performance metrics, including total return, Sharpe ratio, Sortino ratio, maximum drawdown, trade frequency, and hit ratio. This is essential for understanding the strategy's effectiveness.\n"
   ]
  },
  {
   "cell_type": "code",
   "execution_count": 18,
   "id": "39e8fee8-6984-4f22-8b76-bbb4da1009a4",
   "metadata": {},
   "outputs": [],
   "source": [
    "def generate_performance_report(cerebro):\n",
    "    \"\"\"Generate detailed performance metrics after backtesting.\"\"\"\n",
    "    portfolio_value = cerebro.broker.getvalue()\n",
    "    initial_value = 1000000\n",
    "\n",
    "    returns = (portfolio_value - initial_value) / initial_value * 100\n",
    "    print('Total Portfolio Value: %.2f' % portfolio_value)\n",
    "    print('Total Returns: %.2f%%' % returns)\n",
    "\n",
    "    # Get the trade P&L from the first strategy in the first list\n",
    "    strategy = cerebro.runstrats[0][0]  # Correctly access the first strategy\n",
    "    returns_series = np.array(strategy.trade_pnls)\n",
    "    daily_returns = returns_series / initial_value\n",
    "\n",
    "    sharpe_ratio = np.mean(daily_returns) / np.std(daily_returns) if np.std(daily_returns) != 0 else 0\n",
    "    sortino_ratio = np.mean(daily_returns[daily_returns > 0]) / np.std(daily_returns[daily_returns > 0]) if np.std(daily_returns[daily_returns > 0]) != 0 else 0\n",
    "    \n",
    "    print('Sharpe Ratio: %.2f' % sharpe_ratio)\n",
    "    print('Sortino Ratio: %.2f' % sortino_ratio)\n",
    "\n",
    "    max_drawdown = max(1 - (min(daily_returns) / max(daily_returns)), 0)\n",
    "    print('Maximum Drawdown: %.2f%%' % (max_drawdown * 100))\n",
    "\n",
    "    trade_count = len(strategy.trade_pnls)\n",
    "    print('Trade Frequency: %d trades' % trade_count)\n",
    "\n",
    "    winning_trades = len([pnl for pnl in strategy.trade_pnls if pnl > 0])\n",
    "    hit_ratio = winning_trades / trade_count if trade_count > 0 else 0\n",
    "    print('Hit Ratio: %.2f%%' % (hit_ratio * 100))"
   ]
  },
  {
   "cell_type": "code",
   "execution_count": null,
   "id": "f6e090e4-1413-4eba-ac63-78df86e6e971",
   "metadata": {},
   "outputs": [
    {
     "name": "stdout",
     "output_type": "stream",
     "text": [
      "Loading C:\\Users\\adity\\OneDrive\\Desktop\\Quant trading project\\task_dataset\\datasets\\quant\\portfolio-universe\\Indian\\GODREJIND\\GODREJIND_1h.csv\n",
      "Loading C:\\Users\\adity\\OneDrive\\Desktop\\Quant trading project\\task_dataset\\datasets\\quant\\portfolio-universe\\Indian\\NIFTY 50\\NIFTY 50_1h.csv\n",
      "Loading C:\\Users\\adity\\OneDrive\\Desktop\\Quant trading project\\task_dataset\\datasets\\quant\\portfolio-universe\\Indian\\NIFTY BANK\\NIFTY BANK_1h.csv\n",
      "Loading C:\\Users\\adity\\OneDrive\\Desktop\\Quant trading project\\task_dataset\\datasets\\quant\\portfolio-universe\\Indian\\RELIANCE\\RELIANCE_1h.csv\n",
      "Loading C:\\Users\\adity\\OneDrive\\Desktop\\Quant trading project\\task_dataset\\datasets\\quant\\portfolio-universe\\Indian\\TATAMOTORS\\TATAMOTORS_1h.csv\n",
      "Loading C:\\Users\\adity\\OneDrive\\Desktop\\Quant trading project\\task_dataset\\datasets\\quant\\portfolio-universe\\Indian\\TCS\\TCS_1h.csv\n",
      "Starting Portfolio Value: 1000000.00\n",
      "Ending Portfolio Value: 999891.45\n",
      "Total Portfolio Value: 999891.45\n",
      "Total Returns: -0.01%\n",
      "Sharpe Ratio: 0.02\n",
      "Sortino Ratio: 0.90\n",
      "Maximum Drawdown: 187.04%\n",
      "Trade Frequency: 235 trades\n",
      "Hit Ratio: 45.11%\n"
     ]
    }
   ],
   "source": [
    "if __name__ == '__main__':\n",
    "    data_folders = [\n",
    "        r'C:\\Users\\adity\\OneDrive\\Desktop\\Quant trading project\\task_dataset\\datasets\\quant\\portfolio-universe\\Indian'\n",
    "    ]\n",
    "    \n",
    "    run_alpha3_backtest_portfolio(data_folders)"
   ]
  }
 ],
 "metadata": {
  "kernelspec": {
   "display_name": "Python 3 (ipykernel)",
   "language": "python",
   "name": "python3"
  },
  "language_info": {
   "codemirror_mode": {
    "name": "ipython",
    "version": 3
   },
   "file_extension": ".py",
   "mimetype": "text/x-python",
   "name": "python",
   "nbconvert_exporter": "python",
   "pygments_lexer": "ipython3",
   "version": "3.12.4"
  }
 },
 "nbformat": 4,
 "nbformat_minor": 5
}
